{
 "cells": [
  {
   "cell_type": "code",
   "execution_count": 54,
   "metadata": {},
   "outputs": [],
   "source": [
    "import os\n",
    "import numpy as np\n",
    "import random"
   ]
  },
  {
   "cell_type": "code",
   "execution_count": 2,
   "metadata": {},
   "outputs": [],
   "source": [
    "all_list = '/workvol/home1/lxz/proj/fix_git/chexnet/muti_label_classification/data/list/14muti/data.txt'"
   ]
  },
  {
   "cell_type": "code",
   "execution_count": 3,
   "metadata": {},
   "outputs": [],
   "source": [
    "train_val_list = '/workvol/home1/lxz/proj/fix_git/chexnet/muti_label_classification/data/list/origin/train_val_list.txt'"
   ]
  },
  {
   "cell_type": "code",
   "execution_count": 4,
   "metadata": {},
   "outputs": [],
   "source": [
    "test_list = '/workvol/home1/lxz/proj/fix_git/chexnet/muti_label_classification/data/list/origin/test_list.txt'"
   ]
  },
  {
   "cell_type": "code",
   "execution_count": 19,
   "metadata": {},
   "outputs": [],
   "source": [
    "def image_to_label_list(list_path):\n",
    "    with open(list_path) as f:\n",
    "        lines = f.readlines()\n",
    "    image_to_label_dict = {}\n",
    "    for line in lines:\n",
    "        image_to_label_dict[line.split()[0]] = line.strip().split()[1]\n",
    "    return image_to_label_dict"
   ]
  },
  {
   "cell_type": "code",
   "execution_count": 24,
   "metadata": {},
   "outputs": [],
   "source": [
    "def dict_from_txt(list_path, total_dict):\n",
    "    with open(list_path) as f:\n",
    "        lines = f.readlines()\n",
    "    new_dict = {}\n",
    "    for line in lines:\n",
    "        image_name = line.strip()\n",
    "        label = total_dict[image_name]\n",
    "        new_dict[image_name] = label\n",
    "    return new_dict"
   ]
  },
  {
   "cell_type": "code",
   "execution_count": 74,
   "metadata": {},
   "outputs": [],
   "source": [
    "def write_list(write_path, image_label_dict):\n",
    "    with open(write_path, 'w') as f:\n",
    "        for key, value in image_label_dict.items():\n",
    "            f.write('%s %s\\n' % (key, value))\n",
    "    print('Finish writing')"
   ]
  },
  {
   "cell_type": "code",
   "execution_count": 21,
   "metadata": {},
   "outputs": [
    {
     "data": {
      "text/plain": [
       "dict"
      ]
     },
     "execution_count": 21,
     "metadata": {},
     "output_type": "execute_result"
    }
   ],
   "source": [
    "image_to_label_dict = image_to_label_list(all_list)\n",
    "type(image_to_label_dict)"
   ]
  },
  {
   "cell_type": "code",
   "execution_count": 25,
   "metadata": {},
   "outputs": [],
   "source": [
    "train_val_dict = dict_from_txt(train_val_list, image_to_label_dict)"
   ]
  },
  {
   "cell_type": "code",
   "execution_count": 26,
   "metadata": {},
   "outputs": [],
   "source": [
    "test_dict = dict_from_txt(test_list, image_to_label_dict)"
   ]
  },
  {
   "cell_type": "code",
   "execution_count": 28,
   "metadata": {},
   "outputs": [],
   "source": [
    "train_val = '/workvol/home1/lxz/proj/fix_git/chexnet/muti_label_classification/data/list/origin/train_val.txt'\n",
    "test = '/workvol/home1/lxz/proj/fix_git/chexnet/muti_label_classification/data/list/origin/test.txt'"
   ]
  },
  {
   "cell_type": "code",
   "execution_count": 31,
   "metadata": {},
   "outputs": [
    {
     "name": "stdout",
     "output_type": "stream",
     "text": [
      "Finish writing\n"
     ]
    }
   ],
   "source": [
    "write_list(train_val, train_val_dict)"
   ]
  },
  {
   "cell_type": "code",
   "execution_count": 32,
   "metadata": {},
   "outputs": [
    {
     "name": "stdout",
     "output_type": "stream",
     "text": [
      "Finish writing\n"
     ]
    }
   ],
   "source": [
    "write_list(test, test_dict)"
   ]
  },
  {
   "cell_type": "code",
   "execution_count": 33,
   "metadata": {},
   "outputs": [],
   "source": [
    "data_dict = train_val_dict"
   ]
  },
  {
   "cell_type": "code",
   "execution_count": 34,
   "metadata": {},
   "outputs": [],
   "source": [
    "def count_samples(data_dict, class_id):\n",
    "    samples = 0\n",
    "    for k, v in data_dict.items():\n",
    "        if v[class_id] == '1':\n",
    "            samples += 1\n",
    "    print samples\n",
    "    return samples"
   ]
  },
  {
   "cell_type": "code",
   "execution_count": 37,
   "metadata": {},
   "outputs": [
    {
     "name": "stdout",
     "output_type": "stream",
     "text": [
      "8280\n",
      "1707\n",
      "8659\n",
      "13782\n",
      "4034\n",
      "4708\n",
      "876\n",
      "2637\n",
      "2852\n",
      "1378\n",
      "1423\n",
      "1251\n",
      "2242\n",
      "141\n"
     ]
    }
   ],
   "source": [
    "for i in range(14):\n",
    "    count_samples(data_dict, i)"
   ]
  },
  {
   "cell_type": "code",
   "execution_count": 38,
   "metadata": {},
   "outputs": [],
   "source": [
    "pick_id_small = [1, 7, 8, 9, 10, 11, 12]"
   ]
  },
  {
   "cell_type": "code",
   "execution_count": 39,
   "metadata": {},
   "outputs": [],
   "source": [
    "pick_id_big = [0, 2, 3, 4, 5]"
   ]
  },
  {
   "cell_type": "code",
   "execution_count": 40,
   "metadata": {},
   "outputs": [],
   "source": [
    "pick_id_very_small = [7, 13]"
   ]
  },
  {
   "cell_type": "code",
   "execution_count": 41,
   "metadata": {},
   "outputs": [],
   "source": [
    "def cout_sample(pick_list, data_dict):\n",
    "    samples = 0\n",
    "    for idx in pick_list:\n",
    "        samples += count_samples(data_dict, idx)\n",
    "    return samples"
   ]
  },
  {
   "cell_type": "code",
   "execution_count": 58,
   "metadata": {},
   "outputs": [],
   "source": [
    "pick_id_final = [0, 2, 4, 5]"
   ]
  },
  {
   "cell_type": "code",
   "execution_count": 59,
   "metadata": {},
   "outputs": [
    {
     "name": "stdout",
     "output_type": "stream",
     "text": [
      "8280\n",
      "8659\n",
      "4034\n",
      "4708\n",
      "number samples in pick_id_final is : 25681\n"
     ]
    }
   ],
   "source": [
    "print(\"number samples in pick_id_final is : %s\" % cout_sample(pick_id_final, data_dict))"
   ]
  },
  {
   "cell_type": "code",
   "execution_count": 65,
   "metadata": {},
   "outputs": [],
   "source": [
    "def merge_dict(total_dict, pick_list):\n",
    "    sub_dict = {}\n",
    "    for idx in pick_list:\n",
    "        for k,v in total_dict.items():\n",
    "            if v[idx] == '1':\n",
    "                sub_dict[k] = v\n",
    "    samples = len(sub_dict.keys())\n",
    "    total_key = total_dict.keys()\n",
    "    print(' the lenght of total_dict key is : %s' % len(total_key))\n",
    "    random.seed(1314)\n",
    "    random.shuffle(total_key)\n",
    "    pos_sample = 0\n",
    "    for k in total_key:\n",
    "        if k not in sub_dict and pos_sample < samples + 1:\n",
    "            sub_dict[k] = total_dict[k]\n",
    "            pos_sample += 1\n",
    "        elif pos_sample > samples + 1:\n",
    "            break\n",
    "    return sub_dict"
   ]
  },
  {
   "cell_type": "code",
   "execution_count": 66,
   "metadata": {},
   "outputs": [
    {
     "name": "stdout",
     "output_type": "stream",
     "text": [
      " the lenght of total_dict key is : 86524\n",
      "42347\n"
     ]
    }
   ],
   "source": [
    "sub_dict = merge_dict(data_dict, pick_id_final)\n",
    "k = sub_dict.keys()\n",
    "print len(k)"
   ]
  },
  {
   "cell_type": "code",
   "execution_count": 67,
   "metadata": {},
   "outputs": [
    {
     "name": "stdout",
     "output_type": "stream",
     "text": [
      "33877\n"
     ]
    }
   ],
   "source": [
    "sub_dict_sample = len(k)\n",
    "train_n = int(sub_dict_sample * 0.8)\n",
    "print train_n"
   ]
  },
  {
   "cell_type": "code",
   "execution_count": 76,
   "metadata": {},
   "outputs": [],
   "source": [
    "def write_lists(write_path, image_label_dict, key, pick_list):\n",
    "    with open(write_path, 'w') as f:\n",
    "        for k in key:\n",
    "            label = image_label_dict[k]\n",
    "            sub_label = [label[i] for i in range(len(pick_list))]\n",
    "            sub_label = \"\".join(sub_label)\n",
    "            f.write('%s %s\\n' % (k, sub_label))\n",
    "    print('Finish writing')"
   ]
  },
  {
   "cell_type": "code",
   "execution_count": 78,
   "metadata": {},
   "outputs": [
    {
     "name": "stdout",
     "output_type": "stream",
     "text": [
      "Finish writing\n",
      "Finish writing\n"
     ]
    }
   ],
   "source": [
    "train_key = k[:train_n]\n",
    "val_key = k[train_n:]\n",
    "train_path = '/workvol/home1/lxz/proj/fix_git/chexnet/muti_label_classification/data/list/4muti/train.txt'\n",
    "val_path = '/workvol/home1/lxz/proj/fix_git/chexnet/muti_label_classification/data/list/4muti/val.txt'\n",
    "write_lists(train_path, sub_dict, train_key, pick_id_final)\n",
    "write_lists(val_path, sub_dict, val_key, pick_id_final)"
   ]
  },
  {
   "cell_type": "code",
   "execution_count": 71,
   "metadata": {},
   "outputs": [],
   "source": [
    "test_path = '/workvol/home1/lxz/proj/fix_git/chexnet/muti_label_classification/data/list/4muti/test.txt'"
   ]
  },
  {
   "cell_type": "code",
   "execution_count": 79,
   "metadata": {},
   "outputs": [
    {
     "name": "stdout",
     "output_type": "stream",
     "text": [
      "Finish writing\n"
     ]
    }
   ],
   "source": [
    "test_key = test_dict.keys()\n",
    "write_lists(test_path, test_dict, test_key, pick_id_final)"
   ]
  }
 ],
 "metadata": {
  "kernelspec": {
   "display_name": "Python 2",
   "language": "python",
   "name": "python2"
  },
  "language_info": {
   "codemirror_mode": {
    "name": "ipython",
    "version": 2
   },
   "file_extension": ".py",
   "mimetype": "text/x-python",
   "name": "python",
   "nbconvert_exporter": "python",
   "pygments_lexer": "ipython2",
   "version": "2.7.12"
  }
 },
 "nbformat": 4,
 "nbformat_minor": 2
}
