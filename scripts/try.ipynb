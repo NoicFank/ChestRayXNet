{
 "cells": [
  {
   "cell_type": "code",
   "execution_count": null,
   "metadata": {
    "collapsed": false
   },
   "outputs": [],
   "source": [
    "import tensorflow as tf\n",
    "import numpy as np\n",
    "prediction = np.array([[1,0,0,0,1,0,0,0,1,0,0,0,1,0],[1,0,0,0,1,0,0,0,1,0,0,0,1,0]])\n",
    "labels = np.array([[1,0,0,0,0,0,0,0,1,0,0,0,1,0],[1,0,0,0,1,0,0,0,1,0,0,0,1,0]])\n",
    "acc = tf.equal(prediction, labels)\n",
    "with tf.Session() as sess:\n",
    "    print(sess.run(tf.reduce_mean(tf.cast(acc,tf.float32), 0)))"
   ]
  },
  {
   "cell_type": "code",
   "execution_count": 9,
   "metadata": {
    "collapsed": false
   },
   "outputs": [],
   "source": [
    "import tensorflow as tf\n",
    "x = tf.get_variable(name = 'x', shape = [1,4], initializer=tf.constant_initializer([1,2,3,4]))"
   ]
  },
  {
   "cell_type": "code",
   "execution_count": 16,
   "metadata": {
    "collapsed": false
   },
   "outputs": [],
   "source": [
    "y = tf.cast(tf.sigmoid(x) + 0.5, dtype=tf.int32)\n",
    "with tf.Session() as sess:\n",
    "    sess.run(tf.global_variables_initializer())\n",
    "    print(sess.run(x))\n",
    "    print(sess.run(y))"
   ]
  },
  {
   "cell_type": "code",
   "execution_count": 33,
   "metadata": {
    "collapsed": true
   },
   "outputs": [],
   "source": [
    "import numpy as np\n",
    "def processLine(line):\n",
    "    return np.array(map(int, list(line.split(\" \")[1])[:-1]))\n",
    "def judgeAllZero(line):\n",
    "    return line.split(\" \")[1][:-1] == '0'*14"
   ]
  },
  {
   "cell_type": "code",
   "execution_count": 36,
   "metadata": {
    "collapsed": false
   },
   "outputs": [],
   "source": [
    "datalist = \"../data/list/data.txt\"\n",
    "nums = 0\n",
    "total = np.zeros((14), dtype=np.int)\n",
    "allZero = 0\n",
    "with open(datalist) as f:\n",
    "    for item in f:\n",
    "        if judgeAllZero(item):\n",
    "            allZero += 1\n",
    "        total += processLine(item)\n",
    "        nums += 1\n",
    "print nums\n",
    "print allZero\n",
    "print total / float(nums)"
   ]
  },
  {
   "cell_type": "code",
   "execution_count": 18,
   "metadata": {
    "collapsed": false
   },
   "outputs": [
    {
     "name": "stdout",
     "output_type": "stream",
     "text": [
      "[2 4 6]\n"
     ]
    }
   ],
   "source": [
    "a = np.zeros((3), dtype=np.int)\n",
    "b = np.array([2,4,6])\n",
    "print a+b"
   ]
  },
  {
   "cell_type": "code",
   "execution_count": 32,
   "metadata": {
    "collapsed": false
   },
   "outputs": [
    {
     "name": "stdout",
     "output_type": "stream",
     "text": [
      "True\n"
     ]
    }
   ],
   "source": [
    "line = '00000000000000\\n'\n",
    "print judgeAllZero(line)"
   ]
  },
  {
   "cell_type": "code",
   "execution_count": null,
   "metadata": {
    "collapsed": true
   },
   "outputs": [],
   "source": [
    ""
   ]
  }
 ],
 "metadata": {
  "kernelspec": {
   "display_name": "Python 2",
   "language": "python",
   "name": "python2"
  },
  "language_info": {
   "codemirror_mode": {
    "name": "ipython",
    "version": 2.0
   },
   "file_extension": ".py",
   "mimetype": "text/x-python",
   "name": "python",
   "nbconvert_exporter": "python",
   "pygments_lexer": "ipython2",
   "version": "2.7.12"
  }
 },
 "nbformat": 4,
 "nbformat_minor": 0
}