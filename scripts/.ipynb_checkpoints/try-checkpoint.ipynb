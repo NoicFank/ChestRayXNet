{
 "cells": [
  {
   "cell_type": "code",
   "execution_count": null,
   "metadata": {
    "collapsed": false
   },
   "outputs": [],
   "source": [
    "import tensorflow as tf\n",
    "import numpy as np\n",
    "prediction = np.array([[1,0,0,0,1,0,0,0,1,0,0,0,1,0],[1,0,0,0,1,0,0,0,1,0,0,0,1,0]])\n",
    "labels = np.array([[1,0,0,0,0,0,0,0,1,0,0,0,1,0],[1,0,0,0,1,0,0,0,1,0,0,0,1,0]])\n",
    "acc = tf.equal(prediction, labels)\n",
    "with tf.Session() as sess:\n",
    "    print(sess.run(tf.reduce_mean(tf.cast(acc,tf.float32), 0)))"
   ]
  },
  {
   "cell_type": "code",
   "execution_count": 9,
   "metadata": {
    "collapsed": false
   },
   "outputs": [],
   "source": [
    "import tensorflow as tf\n",
    "x = tf.get_variable(name = 'x', shape = [1,4], initializer=tf.constant_initializer([1,2,3,4]))"
   ]
  },
  {
   "cell_type": "code",
   "execution_count": 16,
   "metadata": {
    "collapsed": false
   },
   "outputs": [
    {
     "name": "stdout",
     "output_type": "stream",
     "text": [
      "[[ 1.  2.  3.  4.]]\n",
      "[[1 1 1 1]]\n"
     ]
    }
   ],
   "source": [
    "y = tf.cast(tf.sigmoid(x) + 0.5, dtype=tf.int32)\n",
    "with tf.Session() as sess:\n",
    "    sess.run(tf.global_variables_initializer())\n",
    "    print(sess.run(x))\n",
    "    print(sess.run(y))"
   ]
  },
  {
   "cell_type": "code",
   "execution_count": 16,
   "metadata": {
    "collapsed": true
   },
   "outputs": [],
   "source": [
    "import numpy as np\n",
    "def processLine(line):\n",
    "    return np.array(map(int, list(line.split(\" \")[1])[:-1]))\n",
    "def judgeAllZero(line):\n",
    "    return line == '000000000'"
   ]
  },
  {
   "cell_type": "code",
   "execution_count": 21,
   "metadata": {
    "collapsed": false
   },
   "outputs": [
    {
     "name": "stdout",
     "output_type": "stream",
     "text": [
      "112120\n",
      "[ 0.1030949   0.02475919  0.11877453  0.17743489  0.05156975  0.05646629\n",
      "  0.01276311  0.04728862  0.04162504  0.02054049  0.02244024  0.01503746\n",
      "  0.03019087  0.00202462]\n"
     ]
    }
   ],
   "source": [
    "datalist = \"../data/list/data.txt\"\n",
    "nums = 0\n",
    "total = np.zeros((14), dtype=np.int)\n",
    "with open(datalist) as f:\n",
    "    for item in f:\n",
    "        total += processLine(item)\n",
    "        nums += 1\n",
    "print nums\n",
    "print total / float(nums)"
   ]
  },
  {
   "cell_type": "code",
   "execution_count": 18,
   "metadata": {
    "collapsed": false
   },
   "outputs": [
    {
     "name": "stdout",
     "output_type": "stream",
     "text": [
      "[2 4 6]\n"
     ]
    }
   ],
   "source": [
    "a = np.zeros((3), dtype=np.int)\n",
    "b = np.array([2,4,6])\n",
    "print a+b"
   ]
  },
  {
   "cell_type": "code",
   "execution_count": null,
   "metadata": {
    "collapsed": true
   },
   "outputs": [],
   "source": []
  }
 ],
 "metadata": {
  "kernelspec": {
   "display_name": "Python 2",
   "language": "python",
   "name": "python2"
  },
  "language_info": {
   "codemirror_mode": {
    "name": "ipython",
    "version": 2
   },
   "file_extension": ".py",
   "mimetype": "text/x-python",
   "name": "python",
   "nbconvert_exporter": "python",
   "pygments_lexer": "ipython2",
   "version": "2.7.12"
  }
 },
 "nbformat": 4,
 "nbformat_minor": 0
}
