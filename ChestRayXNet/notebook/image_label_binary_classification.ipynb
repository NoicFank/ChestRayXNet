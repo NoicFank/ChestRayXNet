{
 "cells": [
  {
   "cell_type": "code",
   "execution_count": 1,
   "metadata": {},
   "outputs": [],
   "source": [
    "import os\n",
    "import numpy as np\n",
    "import tensorflow as tf"
   ]
  },
  {
   "cell_type": "code",
   "execution_count": 12,
   "metadata": {},
   "outputs": [],
   "source": [
    "total_image_label_file = '../data/list/origin_data.txt'"
   ]
  },
  {
   "cell_type": "code",
   "execution_count": 3,
   "metadata": {},
   "outputs": [],
   "source": [
    "dataset_dir = '/workvol/home1/lxz/work/NIH-CHEST-Split/sub-NIH-Chest-X-rays/images-100k'"
   ]
  },
  {
   "cell_type": "code",
   "execution_count": 4,
   "metadata": {},
   "outputs": [],
   "source": [
    "write_dir = 'data/tfrecord' "
   ]
  },
  {
   "cell_type": "code",
   "execution_count": 7,
   "metadata": {},
   "outputs": [],
   "source": [
    "def label_filter_single(label):\n",
    "    pos_n = 0\n",
    "    for sub_label in label:\n",
    "        if sub_label == '1':\n",
    "            pos_n += 1\n",
    "    return True if pos_n == 1 else Flase        "
   ]
  },
  {
   "cell_type": "code",
   "execution_count": 8,
   "metadata": {},
   "outputs": [],
   "source": [
    "def label_filter_binary(label, lesion_type):\n",
    "    pos_n = 0\n",
    "    for sub_label in label:\n",
    "        if sub_label == '1':\n",
    "            pos_n += 1\n",
    "    return True if pos_n == 1 and label[lesion_type] == '1' else False"
   ]
  },
  {
   "cell_type": "code",
   "execution_count": 26,
   "metadata": {},
   "outputs": [],
   "source": [
    "def image_to_label_dict(origin_txt, dataset_dir, lesion_type):\n",
    "    with open(origin_txt) as f:\n",
    "        lines = f.readlines()\n",
    "    image_to_label = {}\n",
    "    pos_sample = 0\n",
    "    all_neg_sample = 0\n",
    "    for line in lines:\n",
    "        label = line.strip().split(\" \")[1]\n",
    "        image_path = os.path.join(dataset_dir, line.split(' ')[0])\n",
    "        if label_filter_binary(label, lesion_type):\n",
    "            image_to_label[image_path] = 1\n",
    "            pos_sample += 1\n",
    "        else:\n",
    "            image_to_label[image_path] = 0\n",
    "            if label == '0'*14:\n",
    "                all_neg_sample += 1 \n",
    "    print('The number of positive sample of %sth lesion is %s, all negitive sample is %s' % (lesion_type, pos_sample, all_neg_sample))\n",
    "    return image_to_label, pos_sample, all_neg_sample"
   ]
  },
  {
   "cell_type": "code",
   "execution_count": 22,
   "metadata": {},
   "outputs": [
    {
     "name": "stdout",
     "output_type": "stream",
     "text": [
      "The number of positive sample of 0th lesion is 4215, all negitive sample is 60361\n",
      "The number of positive sample of 1th lesion is 1093, all negitive sample is 60361\n",
      "The number of positive sample of 2th lesion is 3955, all negitive sample is 60361\n",
      "The number of positive sample of 3th lesion is 9547, all negitive sample is 60361\n",
      "The number of positive sample of 4th lesion is 2139, all negitive sample is 60361\n",
      "The number of positive sample of 5th lesion is 2705, all negitive sample is 60361\n",
      "The number of positive sample of 6th lesion is 322, all negitive sample is 60361\n",
      "The number of positive sample of 7th lesion is 2194, all negitive sample is 60361\n",
      "The number of positive sample of 8th lesion is 1310, all negitive sample is 60361\n",
      "The number of positive sample of 9th lesion is 628, all negitive sample is 60361\n",
      "The number of positive sample of 10th lesion is 892, all negitive sample is 60361\n",
      "The number of positive sample of 11th lesion is 727, all negitive sample is 60361\n",
      "The number of positive sample of 12th lesion is 1126, all negitive sample is 60361\n",
      "The number of positive sample of 13th lesion is 110, all negitive sample is 60361\n"
     ]
    },
    {
     "data": {
      "text/plain": [
       "[4215, 1093, 3955, 9547, 2139, 2705, 322, 2194, 1310, 628, 892, 727, 1126, 110]"
      ]
     },
     "execution_count": 22,
     "metadata": {},
     "output_type": "execute_result"
    }
   ],
   "source": [
    "all_pos_sample_n = []\n",
    "for i in range(14):\n",
    "    _, pos_sample, all_neg_sample = image_to_label_dict(total_image_label_file, dataset_dir, i)\n",
    "    all_pos_sample_n.append(pos_sample)\n",
    "all_pos_sample_n"
   ]
  },
  {
   "cell_type": "code",
   "execution_count": 67,
   "metadata": {},
   "outputs": [],
   "source": [
    "def image_to_label_all_neg(origin_txt, dataset_dir, lesion_type,):\n",
    "    with open(origin_txt) as f:\n",
    "        lines = f.readlines()\n",
    "    image_to_label = {}\n",
    "    pos_sample = 0\n",
    "    all_neg_sample = 0\n",
    "    for line in lines:\n",
    "        label = line.strip().split(\" \")[1]\n",
    "        image_path = os.path.join(dataset_dir, line.split(' ')[0])\n",
    "        \n",
    "        if label_filter_binary(label, lesion_type):\n",
    "            image_to_label[image_path] = '1'\n",
    "            pos_sample += 1\n",
    "        elif label == '0'*14 and all_neg_sample < 9547:\n",
    "            image_to_label[image_path] = '0'\n",
    "            all_neg_sample += 1\n",
    "    print('The number of positive sample of %sth lesion is %s, all negitive sample is %s' % (lesion_type, pos_sample, all_neg_sample))\n",
    "    return image_to_label, pos_sample, all_neg_sample"
   ]
  },
  {
   "cell_type": "code",
   "execution_count": 68,
   "metadata": {},
   "outputs": [
    {
     "name": "stdout",
     "output_type": "stream",
     "text": [
      "The number of positive sample of 3th lesion is 9547, all negitive sample is 9547\n"
     ]
    }
   ],
   "source": [
    "image_to_label, _, _ = image_to_label_all_neg(total_image_label_file, dataset_dir, 3)"
   ]
  },
  {
   "cell_type": "code",
   "execution_count": 76,
   "metadata": {},
   "outputs": [],
   "source": [
    "def write_image_label_list(image_to_label, list_name):\n",
    "    with open(list_name, 'w') as f:\n",
    "        for image, label in image_to_label.items():\n",
    "#             print label\n",
    "            f.write('%s %s\\n' % (image, label))"
   ]
  },
  {
   "cell_type": "code",
   "execution_count": 77,
   "metadata": {},
   "outputs": [],
   "source": [
    "list_name = '../data/list/binary_classification_20k.txt'\n",
    "write_image_label_list(image_to_label, list_name)"
   ]
  },
  {
   "cell_type": "code",
   "execution_count": null,
   "metadata": {},
   "outputs": [],
   "source": []
  }
 ],
 "metadata": {
  "kernelspec": {
   "display_name": "Python 2",
   "language": "python",
   "name": "python2"
  },
  "language_info": {
   "codemirror_mode": {
    "name": "ipython",
    "version": 2
   },
   "file_extension": ".py",
   "mimetype": "text/x-python",
   "name": "python",
   "nbconvert_exporter": "python",
   "pygments_lexer": "ipython2",
   "version": "2.7.12"
  }
 },
 "nbformat": 4,
 "nbformat_minor": 2
}
