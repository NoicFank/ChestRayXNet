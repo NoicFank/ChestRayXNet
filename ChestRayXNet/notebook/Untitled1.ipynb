{
 "cells": [
  {
   "cell_type": "raw",
   "metadata": {},
   "source": [
    "prob output from the network is : [[  1.47487462e-01   2.03720927e-02   4.24418822e-02   1.21959731e-01\n",
    "    1.54021859e-01   1.54079765e-01   9.91802383e-03   9.10812542e-02\n",
    "    6.00224026e-02   3.10708378e-02   7.83240888e-03   5.59768602e-02\n",
    "    7.19171762e-03   5.16220243e-05]], \n",
    "loss from log_loss function is : 0.0685599\n"
   ]
  },
  {
   "cell_type": "code",
   "execution_count": null,
   "metadata": {},
   "outputs": [],
   "source": [
    "logits = [[ 0.16542508  0.03228129  0.0924676   0.24521413  0.03958172  0.1051141\n",
    "   0.01229768  0.0263816   0.025795    0.0210749   0.04330323  0.0189624\n",
    "   0.07924619  0.00172609]], \n",
    "label = [[ 0.  0.  0.  0.  0.  0.  0.  0.  0.  0.  0.  0.  0.  0.]], \n",
    "loss = is : 0.0698346\n"
   ]
  }
 ],
 "metadata": {
  "kernelspec": {
   "display_name": "Python 2",
   "language": "python",
   "name": "python2"
  },
  "language_info": {
   "codemirror_mode": {
    "name": "ipython",
    "version": 2
   },
   "file_extension": ".py",
   "mimetype": "text/x-python",
   "name": "python",
   "nbconvert_exporter": "python",
   "pygments_lexer": "ipython2",
   "version": "2.7.12"
  }
 },
 "nbformat": 4,
 "nbformat_minor": 2
}
