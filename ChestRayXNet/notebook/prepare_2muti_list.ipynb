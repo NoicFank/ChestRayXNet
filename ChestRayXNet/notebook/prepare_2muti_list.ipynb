{
 "cells": [
  {
   "cell_type": "code",
   "execution_count": 1,
   "metadata": {},
   "outputs": [],
   "source": [
    "import os\n",
    "import numpy as np\n",
    "import glob"
   ]
  },
  {
   "cell_type": "code",
   "execution_count": 2,
   "metadata": {},
   "outputs": [],
   "source": [
    "import random"
   ]
  },
  {
   "cell_type": "code",
   "execution_count": 20,
   "metadata": {},
   "outputs": [
    {
     "name": "stdout",
     "output_type": "stream",
     "text": [
      "True\n"
     ]
    }
   ],
   "source": [
    "dicts = {}\n",
    "dicts['adsg'] = '235'\n",
    "dicts\n",
    "dicts['adsg'] = '32235'\n",
    "dicts\n",
    "if 'adsdg' not in dicts:\n",
    "    print 'True'"
   ]
  },
  {
   "cell_type": "code",
   "execution_count": 27,
   "metadata": {},
   "outputs": [],
   "source": [
    "def merge_list(list_path1, list_path2, save_path):\n",
    "    with open(list_path1) as f:\n",
    "        list1 = f.readlines()\n",
    "    with open(list_path2) as f:\n",
    "        list2 = f.readlines()\n",
    "    \n",
    "    image_to_label = {}\n",
    "    for line in list1:\n",
    "        image_to_label[line.split(' ')[0]] = '00' if line.strip().split(' ')[1] == '0' else '10'\n",
    "    for line in list2:\n",
    "        if line.split(' ')[0] not in image_to_label:\n",
    "            image_to_label[line.split(' ')[0]] = '01' if line.strip().split(' ')[1] == '1' else '00'\n",
    "        else:\n",
    "            if image_to_label[line.split(' ')[0]] == '00' and line.strip().split(' ')[1] == '1':\n",
    "                image_to_label[line.split(' ')[0]] = '01'\n",
    "            elif image_to_label[line.split(' ')[0]] == '10' and line.strip().split(' ')[1] == '1':\n",
    "                image_to_label[line.split(' ')[0]] = '11'\n",
    "    with open(save_path, 'w') as f:\n",
    "        for key, value in image_to_label.items():\n",
    "            f.write('%s %s\\n' % (key, value))\n",
    "    print 'Finsh merge list'"
   ]
  },
  {
   "cell_type": "code",
   "execution_count": 28,
   "metadata": {},
   "outputs": [],
   "source": [
    "origin_txt = '/workvol/home1/lxz/proj/fix_git/chexnet/muti_label_classification/data/list/14muti/data.txt'"
   ]
  },
  {
   "cell_type": "code",
   "execution_count": 29,
   "metadata": {},
   "outputs": [
    {
     "name": "stdout",
     "output_type": "stream",
     "text": [
      "Finsh merge list\n"
     ]
    }
   ],
   "source": [
    "effusion_train = '/workvol/home1/lxz/proj/fix_git/chexnet/muti_label_classification/data/list/effusion/train.txt'\n",
    "pneumonia_train = '/workvol/home1/lxz/proj/fix_git/chexnet/muti_label_classification/data/list/pneumonia/train.txt'\n",
    "train_save = '/workvol/home1/lxz/proj/fix_git/chexnet/muti_label_classification/data/list/2muti/train.txt'\n",
    "merge_list(effusion_train, pneumonia_train, train_save)"
   ]
  },
  {
   "cell_type": "code",
   "execution_count": 30,
   "metadata": {},
   "outputs": [
    {
     "name": "stdout",
     "output_type": "stream",
     "text": [
      "Finsh merge list\n"
     ]
    }
   ],
   "source": [
    "effusion_train = '/workvol/home1/lxz/proj/fix_git/chexnet/muti_label_classification/data/list/effusion/val.txt'\n",
    "pneumonia_train = '/workvol/home1/lxz/proj/fix_git/chexnet/muti_label_classification/data/list/pneumonia/val.txt'\n",
    "train_save = '/workvol/home1/lxz/proj/fix_git/chexnet/muti_label_classification/data/list/2muti/val.txt'\n",
    "merge_list(effusion_train, pneumonia_train, train_save)"
   ]
  },
  {
   "cell_type": "code",
   "execution_count": 31,
   "metadata": {},
   "outputs": [
    {
     "name": "stdout",
     "output_type": "stream",
     "text": [
      "Finsh merge list\n"
     ]
    }
   ],
   "source": [
    "effusion_train = '/workvol/home1/lxz/proj/fix_git/chexnet/muti_label_classification/data/list/effusion/test.txt'\n",
    "pneumonia_train = '/workvol/home1/lxz/proj/fix_git/chexnet/muti_label_classification/data/list/pneumonia/test.txt'\n",
    "train_save = '/workvol/home1/lxz/proj/fix_git/chexnet/muti_label_classification/data/list/2muti/test.txt'\n",
    "merge_list(effusion_train, pneumonia_train, train_save)"
   ]
  },
  {
   "cell_type": "code",
   "execution_count": 28,
   "metadata": {},
   "outputs": [],
   "source": [
    "def check_sample_n(list_path, just_lesion_label):\n",
    "    with open(origin_txt) as f:\n",
    "        lines = f.readlines()\n",
    "        label = [line.strip().split(' ')[1] for line in lines]\n",
    "    just_lesion = 0\n",
    "    contain_lesion = 0\n",
    "    no_lesion = 0\n",
    "    \n",
    "    for i in range(len(label)):\n",
    "        if label[i] == '0'*14:\n",
    "            no_lesion += 1\n",
    "        elif label[i] == just_lesion_label:\n",
    "            just_lesion += 1\n",
    "        else:\n",
    "            contain_lesion += 1\n",
    "    return just_lesion, contain_lesion, no_lesion\n"
   ]
  },
  {
   "cell_type": "code",
   "execution_count": 29,
   "metadata": {},
   "outputs": [
    {
     "data": {
      "text/plain": [
       "(3955, 47804, 60361)"
      ]
     },
     "execution_count": 29,
     "metadata": {},
     "output_type": "execute_result"
    }
   ],
   "source": [
    "check_sample_n(origin_txt, '00100000000000')"
   ]
  },
  {
   "cell_type": "code",
   "execution_count": 32,
   "metadata": {},
   "outputs": [
    {
     "data": {
      "text/plain": [
       "(322, 51437, 60361)"
      ]
     },
     "execution_count": 32,
     "metadata": {},
     "output_type": "execute_result"
    }
   ],
   "source": [
    "check_sample_n(origin_txt, '00000010000000')"
   ]
  },
  {
   "cell_type": "code",
   "execution_count": 33,
   "metadata": {},
   "outputs": [
    {
     "data": {
      "text/plain": [
       "(54, 51705, 60361)"
      ]
     },
     "execution_count": 33,
     "metadata": {},
     "output_type": "execute_result"
    }
   ],
   "source": [
    "check_sample_n(origin_txt, '00100010000000')"
   ]
  },
  {
   "cell_type": "code",
   "execution_count": null,
   "metadata": {},
   "outputs": [],
   "source": [
    "def train_two_class_muti_label()"
   ]
  }
 ],
 "metadata": {
  "kernelspec": {
   "display_name": "Python 2",
   "language": "python",
   "name": "python2"
  },
  "language_info": {
   "codemirror_mode": {
    "name": "ipython",
    "version": 2
   },
   "file_extension": ".py",
   "mimetype": "text/x-python",
   "name": "python",
   "nbconvert_exporter": "python",
   "pygments_lexer": "ipython2",
   "version": "2.7.12"
  }
 },
 "nbformat": 4,
 "nbformat_minor": 2
}
